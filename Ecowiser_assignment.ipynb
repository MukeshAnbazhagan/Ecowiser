{
 "cells": [
  {
   "cell_type": "code",
   "execution_count": 5,
   "metadata": {},
   "outputs": [],
   "source": [
    "#Import Packages\n",
    "from selenium import webdriver\n",
    "import time\n",
    "import pandas as pd\n",
    "import os"
   ]
  },
  {
   "cell_type": "code",
   "execution_count": 3,
   "metadata": {},
   "outputs": [
    {
     "name": "stdout",
     "output_type": "stream",
     "text": [
      "Note: you may need to restart the kernel to use updated packages.Collecting beautifulsoup4\n",
      "  Downloading beautifulsoup4-4.12.3-py3-none-any.whl (147 kB)\n",
      "     -------------------------------------- 147.9/147.9 kB 8.6 MB/s eta 0:00:00\n",
      "Collecting soupsieve>1.2\n",
      "  Downloading soupsieve-2.5-py3-none-any.whl (36 kB)\n",
      "Installing collected packages: soupsieve, beautifulsoup4\n",
      "Successfully installed beautifulsoup4-4.12.3 soupsieve-2.5\n",
      "\n"
     ]
    },
    {
     "name": "stderr",
     "output_type": "stream",
     "text": [
      "\n",
      "[notice] A new release of pip available: 22.3.1 -> 24.0\n",
      "[notice] To update, run: c:\\users\\a.mukesh\\appdata\\local\\programs\\python\\python39\\python.exe -m pip install --upgrade pip\n"
     ]
    }
   ],
   "source": [
    "pip install beautifulsoup4"
   ]
  },
  {
   "cell_type": "code",
   "execution_count": 1,
   "metadata": {},
   "outputs": [],
   "source": [
    "from bs4 import BeautifulSoup\n",
    "\n",
    "from selenium.webdriver.support.select import Select\n",
    "from selenium.webdriver.support.ui import WebDriverWait\n",
    "from selenium.webdriver.common.by import By\n",
    "from selenium.webdriver.support import expected_conditions as EC\n",
    "from selenium.webdriver.chrome.service import Service"
   ]
  },
  {
   "cell_type": "code",
   "execution_count": 63,
   "metadata": {},
   "outputs": [
    {
     "name": "stdout",
     "output_type": "stream",
     "text": [
      "venkat\n",
      "kumar\n",
      "https://www.linkedin.com/search/results/people/?keywords=venkat%20kumar&origin=CLUSTER_EXPANSION&sid=wXm\n"
     ]
    }
   ],
   "source": [
    "first_name =input()\n",
    "last_name  = input()\n",
    "url1 = \"https://www.linkedin.com/search/results/people/?keywords={}%20{}&origin=CLUSTER_EXPANSION&sid=wXm\".format(first_name, last_name)\n",
    "print(url1)"
   ]
  },
  {
   "cell_type": "code",
   "execution_count": 64,
   "metadata": {},
   "outputs": [],
   "source": [
    "service = Service(executable_path=\"C:/Users/A.Mukesh/OneDrive/Desktop/chromedriver.exe\")\n",
    "options = webdriver.ChromeOptions()\n",
    "driver = webdriver.Chrome(service=service, options=options)\n",
    "driver.get(url1)"
   ]
  },
  {
   "cell_type": "code",
   "execution_count": 65,
   "metadata": {},
   "outputs": [],
   "source": [
    "sign_in_link = driver.find_element(By.XPATH, \"//a[@class='main__sign-in-link']\")\n",
    "sign_in_link.click()"
   ]
  },
  {
   "cell_type": "code",
   "execution_count": 66,
   "metadata": {},
   "outputs": [],
   "source": [
    "email = \"mukeshabd13@gmail.com\"\n",
    "email_input = driver.find_element(By.ID,\"username\")\n",
    "email_input.clear()\n",
    "email_input.send_keys(email)"
   ]
  },
  {
   "cell_type": "code",
   "execution_count": 67,
   "metadata": {},
   "outputs": [],
   "source": [
    "password = \"Muki@1302\"\n",
    "password_input = driver.find_element(By.ID, \"password\")\n",
    "password_input.clear()\n",
    "password_input.send_keys(password)"
   ]
  },
  {
   "cell_type": "code",
   "execution_count": 68,
   "metadata": {},
   "outputs": [],
   "source": [
    "submit_button = driver.find_element(By.XPATH, \"//button[@class='btn__primary--large from__button--floating']\")\n",
    "submit_button.click()"
   ]
  },
  {
   "cell_type": "code",
   "execution_count": 69,
   "metadata": {},
   "outputs": [],
   "source": [
    "html_content = driver.page_source\n",
    "soup = BeautifulSoup(html_content, 'html.parser')"
   ]
  },
  {
   "cell_type": "code",
   "execution_count": 70,
   "metadata": {},
   "outputs": [
    {
     "name": "stdout",
     "output_type": "stream",
     "text": [
      "\n"
     ]
    }
   ],
   "source": [
    "name_element = driver.find_element(By.XPATH, \"//span[@aria-hidden='true']\")\n",
    "name = name_element.text\n",
    "print(name)"
   ]
  },
  {
   "cell_type": "code",
   "execution_count": 71,
   "metadata": {
    "scrolled": false
   },
   "outputs": [
    {
     "name": "stdout",
     "output_type": "stream",
     "text": [
      "Venkat Kumar\n",
      "Venkat Kumar\n",
      "Venkat Kumar\n",
      "Venkat Kumar\n",
      "Venkat Kumar\n",
      "Venkat Kumar\n",
      "Venkat Kumar\n",
      "Venkat Kumar\n",
      "Venkat Kumar\n",
      "Venkat Kumar\n"
     ]
    }
   ],
   "source": [
    "Name = []\n",
    "try:\n",
    "    for i in range(10):\n",
    "        name_element = soup.select_one('span.entity-result__title-text.t-16 a span[aria-hidden=\"true\"]')\n",
    "        name = name_element.text if name_element else None\n",
    "        Name.append(name)\n",
    "        print(name)\n",
    "\n",
    "except IndexError:\n",
    "    print(\"no\")\n",
    "        "
   ]
  },
  {
   "cell_type": "code",
   "execution_count": 72,
   "metadata": {},
   "outputs": [],
   "source": [
    "soup = BeautifulSoup(html_content, 'html.parser')"
   ]
  },
  {
   "cell_type": "code",
   "execution_count": 74,
   "metadata": {},
   "outputs": [
    {
     "name": "stdout",
     "output_type": "stream",
     "text": [
      "\n",
      "Product Leader | 18+ Patents | Product Management | Product Strategy | Successfully Incubated 8 digital solutions (Zero to One) | Successfully scaled 2 digital solutions (Zero to Ten)\n",
      "\n",
      "\n",
      "SDE I - Amazon\n",
      "\n",
      "\n",
      "VP Global Technology at JPMorgan Chase & Co.\n",
      "\n",
      "\n",
      "Embedded Domain Expert\n",
      "\n",
      "\n",
      "Senior Consultant at Infosys Limited\n",
      "\n",
      "\n",
      "Principal Member Of Technical Staff at Oracle\n",
      "\n",
      "\n",
      "Senior Software Engineer at Hindustan Unilever\n",
      "\n",
      "\n",
      "3+ Years of experience as DevOps/SRE engineer, Looking for job change, Immediate joiner\n",
      "\n",
      "\n",
      "Workday consltant at DigeeIT Networks pvt ltd\n",
      "\n",
      "\n",
      "Optum\n",
      "\n"
     ]
    }
   ],
   "source": [
    "primary_subtitles = soup.select('.entity-result__primary-subtitle.t-14.t-black.t-normal')[:10]\n",
    "Position = []\n",
    "for primary_subtitle in primary_subtitles:\n",
    "    a = primary_subtitle.text\n",
    "    print(a)\n",
    "    Position.append(a)"
   ]
  },
  {
   "cell_type": "code",
   "execution_count": 75,
   "metadata": {},
   "outputs": [
    {
     "data": {
      "text/plain": [
       "['\\nProduct Leader | 18+ Patents | Product Management | Product Strategy | Successfully Incubated 8 digital solutions (Zero to One) | Successfully scaled 2 digital solutions (Zero to Ten)\\n',\n",
       " '\\nSDE I - Amazon\\n',\n",
       " '\\nVP Global Technology at JPMorgan Chase & Co.\\n',\n",
       " '\\nEmbedded Domain Expert\\n',\n",
       " '\\nSenior Consultant at Infosys Limited\\n',\n",
       " '\\nPrincipal Member Of Technical Staff at Oracle\\n',\n",
       " '\\nSenior Software Engineer at Hindustan Unilever\\n',\n",
       " '\\n3+ Years of experience as DevOps/SRE engineer, Looking for job change, Immediate joiner\\n',\n",
       " '\\nWorkday consltant at DigeeIT Networks pvt ltd\\n',\n",
       " '\\nOptum\\n']"
      ]
     },
     "execution_count": 75,
     "metadata": {},
     "output_type": "execute_result"
    }
   ],
   "source": [
    "Position"
   ]
  },
  {
   "cell_type": "code",
   "execution_count": 76,
   "metadata": {
    "scrolled": true
   },
   "outputs": [
    {
     "name": "stdout",
     "output_type": "stream",
     "text": [
      "Bengaluru\n",
      "Bengaluru\n",
      "Bengaluru\n",
      "Bengaluru\n",
      "Bengaluru\n",
      "Bengaluru\n",
      "Bengaluru\n",
      "Bengaluru\n",
      "Bengaluru\n",
      "Bengaluru\n"
     ]
    }
   ],
   "source": [
    "secondary_subtitles = soup.select('.entity-result__secondary-subtitle.t-14.t-normal')[:10]\n",
    "Location = []\n",
    "for secondary_subtitle in secondary_subtitles:\n",
    "    b = secondary_subtitle.text.strip()\n",
    "    print(b)\n",
    "    Location.append(b)"
   ]
  },
  {
   "cell_type": "code",
   "execution_count": 77,
   "metadata": {},
   "outputs": [],
   "source": [
    "df1 = pd.DataFrame({'Name':Name})\n",
    "df2 = pd.DataFrame({'Position':Position})\n",
    "df3 = pd.DataFrame({'Location':Location})\n",
    "df = pd.concat([df1, df2,df3],axis =1)"
   ]
  },
  {
   "cell_type": "code",
   "execution_count": 78,
   "metadata": {
    "scrolled": false
   },
   "outputs": [
    {
     "data": {
      "text/html": [
       "<div>\n",
       "<style scoped>\n",
       "    .dataframe tbody tr th:only-of-type {\n",
       "        vertical-align: middle;\n",
       "    }\n",
       "\n",
       "    .dataframe tbody tr th {\n",
       "        vertical-align: top;\n",
       "    }\n",
       "\n",
       "    .dataframe thead th {\n",
       "        text-align: right;\n",
       "    }\n",
       "</style>\n",
       "<table border=\"1\" class=\"dataframe\">\n",
       "  <thead>\n",
       "    <tr style=\"text-align: right;\">\n",
       "      <th></th>\n",
       "      <th>Name</th>\n",
       "      <th>Position</th>\n",
       "      <th>Location</th>\n",
       "    </tr>\n",
       "  </thead>\n",
       "  <tbody>\n",
       "    <tr>\n",
       "      <th>0</th>\n",
       "      <td>Venkat Kumar</td>\n",
       "      <td>\\nProduct Leader | 18+ Patents | Product Manag...</td>\n",
       "      <td>Bengaluru</td>\n",
       "    </tr>\n",
       "    <tr>\n",
       "      <th>1</th>\n",
       "      <td>Venkat Kumar</td>\n",
       "      <td>\\nSDE I - Amazon\\n</td>\n",
       "      <td>Bengaluru</td>\n",
       "    </tr>\n",
       "    <tr>\n",
       "      <th>2</th>\n",
       "      <td>Venkat Kumar</td>\n",
       "      <td>\\nVP Global Technology at JPMorgan Chase &amp; Co.\\n</td>\n",
       "      <td>Bengaluru</td>\n",
       "    </tr>\n",
       "    <tr>\n",
       "      <th>3</th>\n",
       "      <td>Venkat Kumar</td>\n",
       "      <td>\\nEmbedded Domain Expert\\n</td>\n",
       "      <td>Bengaluru</td>\n",
       "    </tr>\n",
       "    <tr>\n",
       "      <th>4</th>\n",
       "      <td>Venkat Kumar</td>\n",
       "      <td>\\nSenior Consultant at Infosys Limited\\n</td>\n",
       "      <td>Bengaluru</td>\n",
       "    </tr>\n",
       "    <tr>\n",
       "      <th>5</th>\n",
       "      <td>Venkat Kumar</td>\n",
       "      <td>\\nPrincipal Member Of Technical Staff at Oracle\\n</td>\n",
       "      <td>Bengaluru</td>\n",
       "    </tr>\n",
       "    <tr>\n",
       "      <th>6</th>\n",
       "      <td>Venkat Kumar</td>\n",
       "      <td>\\nSenior Software Engineer at Hindustan Unilev...</td>\n",
       "      <td>Bengaluru</td>\n",
       "    </tr>\n",
       "    <tr>\n",
       "      <th>7</th>\n",
       "      <td>Venkat Kumar</td>\n",
       "      <td>\\n3+ Years of experience as DevOps/SRE enginee...</td>\n",
       "      <td>Bengaluru</td>\n",
       "    </tr>\n",
       "    <tr>\n",
       "      <th>8</th>\n",
       "      <td>Venkat Kumar</td>\n",
       "      <td>\\nWorkday consltant at DigeeIT Networks pvt ltd\\n</td>\n",
       "      <td>Bengaluru</td>\n",
       "    </tr>\n",
       "    <tr>\n",
       "      <th>9</th>\n",
       "      <td>Venkat Kumar</td>\n",
       "      <td>\\nOptum\\n</td>\n",
       "      <td>Bengaluru</td>\n",
       "    </tr>\n",
       "  </tbody>\n",
       "</table>\n",
       "</div>"
      ],
      "text/plain": [
       "           Name                                           Position   Location\n",
       "0  Venkat Kumar  \\nProduct Leader | 18+ Patents | Product Manag...  Bengaluru\n",
       "1  Venkat Kumar                                 \\nSDE I - Amazon\\n  Bengaluru\n",
       "2  Venkat Kumar   \\nVP Global Technology at JPMorgan Chase & Co.\\n  Bengaluru\n",
       "3  Venkat Kumar                         \\nEmbedded Domain Expert\\n  Bengaluru\n",
       "4  Venkat Kumar           \\nSenior Consultant at Infosys Limited\\n  Bengaluru\n",
       "5  Venkat Kumar  \\nPrincipal Member Of Technical Staff at Oracle\\n  Bengaluru\n",
       "6  Venkat Kumar  \\nSenior Software Engineer at Hindustan Unilev...  Bengaluru\n",
       "7  Venkat Kumar  \\n3+ Years of experience as DevOps/SRE enginee...  Bengaluru\n",
       "8  Venkat Kumar  \\nWorkday consltant at DigeeIT Networks pvt ltd\\n  Bengaluru\n",
       "9  Venkat Kumar                                          \\nOptum\\n  Bengaluru"
      ]
     },
     "execution_count": 78,
     "metadata": {},
     "output_type": "execute_result"
    }
   ],
   "source": [
    "df"
   ]
  },
  {
   "cell_type": "code",
   "execution_count": 79,
   "metadata": {},
   "outputs": [
    {
     "name": "stderr",
     "output_type": "stream",
     "text": [
      "C:\\Users\\A.Mukesh\\AppData\\Local\\Temp\\ipykernel_24848\\2724986459.py:1: FutureWarning: The default value of regex will change from True to False in a future version.\n",
      "  df['Position'] = df['Position'].str.replace(r'\\n', '')\n"
     ]
    },
    {
     "data": {
      "text/html": [
       "<div>\n",
       "<style scoped>\n",
       "    .dataframe tbody tr th:only-of-type {\n",
       "        vertical-align: middle;\n",
       "    }\n",
       "\n",
       "    .dataframe tbody tr th {\n",
       "        vertical-align: top;\n",
       "    }\n",
       "\n",
       "    .dataframe thead th {\n",
       "        text-align: right;\n",
       "    }\n",
       "</style>\n",
       "<table border=\"1\" class=\"dataframe\">\n",
       "  <thead>\n",
       "    <tr style=\"text-align: right;\">\n",
       "      <th></th>\n",
       "      <th>Name</th>\n",
       "      <th>Position</th>\n",
       "      <th>Location</th>\n",
       "    </tr>\n",
       "  </thead>\n",
       "  <tbody>\n",
       "    <tr>\n",
       "      <th>0</th>\n",
       "      <td>Venkat Kumar</td>\n",
       "      <td>Product Leader | 18+ Patents | Product Managem...</td>\n",
       "      <td>Bengaluru</td>\n",
       "    </tr>\n",
       "    <tr>\n",
       "      <th>1</th>\n",
       "      <td>Venkat Kumar</td>\n",
       "      <td>SDE I - Amazon</td>\n",
       "      <td>Bengaluru</td>\n",
       "    </tr>\n",
       "    <tr>\n",
       "      <th>2</th>\n",
       "      <td>Venkat Kumar</td>\n",
       "      <td>VP Global Technology at JPMorgan Chase &amp; Co.</td>\n",
       "      <td>Bengaluru</td>\n",
       "    </tr>\n",
       "    <tr>\n",
       "      <th>3</th>\n",
       "      <td>Venkat Kumar</td>\n",
       "      <td>Embedded Domain Expert</td>\n",
       "      <td>Bengaluru</td>\n",
       "    </tr>\n",
       "    <tr>\n",
       "      <th>4</th>\n",
       "      <td>Venkat Kumar</td>\n",
       "      <td>Senior Consultant at Infosys Limited</td>\n",
       "      <td>Bengaluru</td>\n",
       "    </tr>\n",
       "    <tr>\n",
       "      <th>5</th>\n",
       "      <td>Venkat Kumar</td>\n",
       "      <td>Principal Member Of Technical Staff at Oracle</td>\n",
       "      <td>Bengaluru</td>\n",
       "    </tr>\n",
       "    <tr>\n",
       "      <th>6</th>\n",
       "      <td>Venkat Kumar</td>\n",
       "      <td>Senior Software Engineer at Hindustan Unilever</td>\n",
       "      <td>Bengaluru</td>\n",
       "    </tr>\n",
       "    <tr>\n",
       "      <th>7</th>\n",
       "      <td>Venkat Kumar</td>\n",
       "      <td>3+ Years of experience as DevOps/SRE engineer,...</td>\n",
       "      <td>Bengaluru</td>\n",
       "    </tr>\n",
       "    <tr>\n",
       "      <th>8</th>\n",
       "      <td>Venkat Kumar</td>\n",
       "      <td>Workday consltant at DigeeIT Networks pvt ltd</td>\n",
       "      <td>Bengaluru</td>\n",
       "    </tr>\n",
       "    <tr>\n",
       "      <th>9</th>\n",
       "      <td>Venkat Kumar</td>\n",
       "      <td>Optum</td>\n",
       "      <td>Bengaluru</td>\n",
       "    </tr>\n",
       "  </tbody>\n",
       "</table>\n",
       "</div>"
      ],
      "text/plain": [
       "           Name                                           Position   Location\n",
       "0  Venkat Kumar  Product Leader | 18+ Patents | Product Managem...  Bengaluru\n",
       "1  Venkat Kumar                                     SDE I - Amazon  Bengaluru\n",
       "2  Venkat Kumar       VP Global Technology at JPMorgan Chase & Co.  Bengaluru\n",
       "3  Venkat Kumar                             Embedded Domain Expert  Bengaluru\n",
       "4  Venkat Kumar               Senior Consultant at Infosys Limited  Bengaluru\n",
       "5  Venkat Kumar      Principal Member Of Technical Staff at Oracle  Bengaluru\n",
       "6  Venkat Kumar     Senior Software Engineer at Hindustan Unilever  Bengaluru\n",
       "7  Venkat Kumar  3+ Years of experience as DevOps/SRE engineer,...  Bengaluru\n",
       "8  Venkat Kumar      Workday consltant at DigeeIT Networks pvt ltd  Bengaluru\n",
       "9  Venkat Kumar                                              Optum  Bengaluru"
      ]
     },
     "execution_count": 79,
     "metadata": {},
     "output_type": "execute_result"
    }
   ],
   "source": [
    "df['Position'] = df['Position'].str.replace(r'\\n', '')\n",
    "df"
   ]
  },
  {
   "cell_type": "code",
   "execution_count": 80,
   "metadata": {},
   "outputs": [],
   "source": [
    "df.to_csv('linkedin.csv')"
   ]
  },
  {
   "cell_type": "code",
   "execution_count": 81,
   "metadata": {},
   "outputs": [],
   "source": [
    "driver.close()"
   ]
  },
  {
   "cell_type": "code",
   "execution_count": null,
   "metadata": {},
   "outputs": [],
   "source": []
  }
 ],
 "metadata": {
  "kernelspec": {
   "display_name": "Python 3 (ipykernel)",
   "language": "python",
   "name": "python3"
  },
  "language_info": {
   "codemirror_mode": {
    "name": "ipython",
    "version": 3
   },
   "file_extension": ".py",
   "mimetype": "text/x-python",
   "name": "python",
   "nbconvert_exporter": "python",
   "pygments_lexer": "ipython3",
   "version": "3.9.5"
  }
 },
 "nbformat": 4,
 "nbformat_minor": 4
}
